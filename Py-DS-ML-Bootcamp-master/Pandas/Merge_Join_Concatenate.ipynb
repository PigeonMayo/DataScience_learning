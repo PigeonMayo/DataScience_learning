{
 "cells": [
  {
   "cell_type": "markdown",
   "id": "e16e0810",
   "metadata": {},
   "source": [
    "# Merge Join Concatenate"
   ]
  },
  {
   "cell_type": "markdown",
   "id": "756c160f",
   "metadata": {},
   "source": [
    "# Concatenate\n",
    "\n",
    "say you have 3 data frames df1 df2 df3\n",
    "\n",
    "to join them we use df.concat([df1,df2,df3])\n",
    "\n",
    "you can change axis = 0 for columns and axis = 1 for rows e.g. df.concat([df1,df2,df3],axis = 1)\n"
   ]
  },
  {
   "cell_type": "markdown",
   "id": "8b22106d",
   "metadata": {},
   "source": [
    "# Merge\n",
    "\n",
    "say we have df1 and df2 they share a column named Key also known as a key column\n",
    "\n",
    "we can merge them by joining them on a common column e.g. df1.merge(df2, on = 'column')\n",
    "\n",
    "you can merge on multiple columns e.g. df1.merge(df2, on = ['column1','column2'])\n",
    "\n",
    "there is also a how parameter that can be left right or outer e.g. df1.merge(df2, on = 'column', how = 'left')"
   ]
  },
  {
   "cell_type": "markdown",
   "id": "6e0a7433",
   "metadata": {},
   "source": [
    "# Join\n",
    "\n",
    "say we have df1 and df2\n",
    "\n",
    "we can join them  using df1.join(df2)\n",
    "\n",
    "there is also a how parameter that can be left right or outer e.g. df1.join(df2, how = 'left')"
   ]
  },
  {
   "cell_type": "code",
   "execution_count": null,
   "id": "8b912eaf",
   "metadata": {
    "vscode": {
     "languageId": "plaintext"
    }
   },
   "outputs": [],
   "source": []
  },
  {
   "cell_type": "code",
   "execution_count": null,
   "id": "f96734ef",
   "metadata": {
    "vscode": {
     "languageId": "plaintext"
    }
   },
   "outputs": [],
   "source": []
  }
 ],
 "metadata": {
  "language_info": {
   "name": "python"
  }
 },
 "nbformat": 4,
 "nbformat_minor": 5
}
